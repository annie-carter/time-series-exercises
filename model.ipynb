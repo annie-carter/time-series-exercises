{
 "cells": [
  {
   "cell_type": "markdown",
   "id": "2d547b0f",
   "metadata": {},
   "source": [
    "# Time Series Model Exercises"
   ]
  },
  {
   "cell_type": "code",
   "execution_count": 1,
   "id": "fb03f5fb-b15b-46fe-8200-fc13d9e06ebe",
   "metadata": {},
   "outputs": [],
   "source": [
    "import pandas as pd\n",
    "import numpy as np\n",
    "import matplotlib.pyplot as plt\n",
    "import seaborn as sns\n",
    "\n",
    "# Convert dates\n",
    "from datetime import datetime\n",
    "\n",
    "# Modeling\n",
    "import statsmodels.api as sm\n",
    "from statsmodels.tsa.api import Holt, ExponentialSmoothing\n",
    "from sklearn.metrics import mean_squared_error\n",
    "from math import sqrt "
   ]
  },
  {
   "cell_type": "markdown",
   "id": "a9e2e14e",
   "metadata": {},
   "source": [
    "## Acquire \n",
    "Using saas.csv or log data from API usage"
   ]
  },
  {
   "cell_type": "code",
   "execution_count": 6,
   "id": "d8250bd7-e78e-4bea-96b2-ce59116a7b77",
   "metadata": {},
   "outputs": [],
   "source": [
    "saas_df = pd.read_csv('saas.csv')"
   ]
  },
  {
   "cell_type": "code",
   "execution_count": 7,
   "id": "1db86892-f392-429d-8cb9-26e13db04be0",
   "metadata": {},
   "outputs": [
    {
     "data": {
      "text/html": [
       "<div>\n",
       "<style scoped>\n",
       "    .dataframe tbody tr th:only-of-type {\n",
       "        vertical-align: middle;\n",
       "    }\n",
       "\n",
       "    .dataframe tbody tr th {\n",
       "        vertical-align: top;\n",
       "    }\n",
       "\n",
       "    .dataframe thead th {\n",
       "        text-align: right;\n",
       "    }\n",
       "</style>\n",
       "<table border=\"1\" class=\"dataframe\">\n",
       "  <thead>\n",
       "    <tr style=\"text-align: right;\">\n",
       "      <th></th>\n",
       "      <th>Month_Invoiced</th>\n",
       "      <th>Customer_Id</th>\n",
       "      <th>Invoice_Id</th>\n",
       "      <th>Subscription_Type</th>\n",
       "      <th>Amount</th>\n",
       "    </tr>\n",
       "  </thead>\n",
       "  <tbody>\n",
       "    <tr>\n",
       "      <th>0</th>\n",
       "      <td>2014-01-31</td>\n",
       "      <td>1000000</td>\n",
       "      <td>5000000</td>\n",
       "      <td>0.0</td>\n",
       "      <td>0.0</td>\n",
       "    </tr>\n",
       "    <tr>\n",
       "      <th>1</th>\n",
       "      <td>2014-01-31</td>\n",
       "      <td>1000001</td>\n",
       "      <td>5000001</td>\n",
       "      <td>2.0</td>\n",
       "      <td>10.0</td>\n",
       "    </tr>\n",
       "    <tr>\n",
       "      <th>2</th>\n",
       "      <td>2014-01-31</td>\n",
       "      <td>1000002</td>\n",
       "      <td>5000002</td>\n",
       "      <td>0.0</td>\n",
       "      <td>0.0</td>\n",
       "    </tr>\n",
       "    <tr>\n",
       "      <th>3</th>\n",
       "      <td>2014-01-31</td>\n",
       "      <td>1000003</td>\n",
       "      <td>5000003</td>\n",
       "      <td>0.0</td>\n",
       "      <td>0.0</td>\n",
       "    </tr>\n",
       "    <tr>\n",
       "      <th>4</th>\n",
       "      <td>2014-01-31</td>\n",
       "      <td>1000004</td>\n",
       "      <td>5000004</td>\n",
       "      <td>1.0</td>\n",
       "      <td>5.0</td>\n",
       "    </tr>\n",
       "  </tbody>\n",
       "</table>\n",
       "</div>"
      ],
      "text/plain": [
       "  Month_Invoiced  Customer_Id  Invoice_Id  Subscription_Type  Amount\n",
       "0     2014-01-31      1000000     5000000                0.0     0.0\n",
       "1     2014-01-31      1000001     5000001                2.0    10.0\n",
       "2     2014-01-31      1000002     5000002                0.0     0.0\n",
       "3     2014-01-31      1000003     5000003                0.0     0.0\n",
       "4     2014-01-31      1000004     5000004                1.0     5.0"
      ]
     },
     "execution_count": 7,
     "metadata": {},
     "output_type": "execute_result"
    }
   ],
   "source": [
    "saas_df.head()"
   ]
  },
  {
   "cell_type": "code",
   "execution_count": 8,
   "id": "7a1fb8f0-a4e2-4781-a93a-be4785bd46ca",
   "metadata": {},
   "outputs": [
    {
     "name": "stdout",
     "output_type": "stream",
     "text": [
      "<class 'pandas.core.frame.DataFrame'>\n",
      "RangeIndex: 790458 entries, 0 to 790457\n",
      "Data columns (total 5 columns):\n",
      " #   Column             Non-Null Count   Dtype  \n",
      "---  ------             --------------   -----  \n",
      " 0   Month_Invoiced     790458 non-null  object \n",
      " 1   Customer_Id        790458 non-null  int64  \n",
      " 2   Invoice_Id         790458 non-null  int64  \n",
      " 3   Subscription_Type  790458 non-null  float64\n",
      " 4   Amount             790458 non-null  float64\n",
      "dtypes: float64(2), int64(2), object(1)\n",
      "memory usage: 30.2+ MB\n"
     ]
    }
   ],
   "source": [
    "saas_df.info()"
   ]
  },
  {
   "cell_type": "code",
   "execution_count": 9,
   "id": "06626beb",
   "metadata": {},
   "outputs": [],
   "source": [
    "#Convert to date time \n",
    "saas_df[\"Month_Invoiced\"] = pd.to_datetime(saas_df[\"Month_Invoiced\"])\n",
    "# Set the \"Date\" column as the index\n",
    "saas_df = saas_df.set_index(\"Month_Invoiced\")"
   ]
  },
  {
   "cell_type": "code",
   "execution_count": 10,
   "id": "646fc7dc",
   "metadata": {},
   "outputs": [
    {
     "data": {
      "text/html": [
       "<div>\n",
       "<style scoped>\n",
       "    .dataframe tbody tr th:only-of-type {\n",
       "        vertical-align: middle;\n",
       "    }\n",
       "\n",
       "    .dataframe tbody tr th {\n",
       "        vertical-align: top;\n",
       "    }\n",
       "\n",
       "    .dataframe thead th {\n",
       "        text-align: right;\n",
       "    }\n",
       "</style>\n",
       "<table border=\"1\" class=\"dataframe\">\n",
       "  <thead>\n",
       "    <tr style=\"text-align: right;\">\n",
       "      <th></th>\n",
       "      <th>Customer_Id</th>\n",
       "      <th>Invoice_Id</th>\n",
       "      <th>Subscription_Type</th>\n",
       "      <th>Amount</th>\n",
       "    </tr>\n",
       "    <tr>\n",
       "      <th>Month_Invoiced</th>\n",
       "      <th></th>\n",
       "      <th></th>\n",
       "      <th></th>\n",
       "      <th></th>\n",
       "    </tr>\n",
       "  </thead>\n",
       "  <tbody>\n",
       "    <tr>\n",
       "      <th>2014-01-31</th>\n",
       "      <td>1000000</td>\n",
       "      <td>5000000</td>\n",
       "      <td>0.0</td>\n",
       "      <td>0.0</td>\n",
       "    </tr>\n",
       "    <tr>\n",
       "      <th>2014-01-31</th>\n",
       "      <td>1000001</td>\n",
       "      <td>5000001</td>\n",
       "      <td>2.0</td>\n",
       "      <td>10.0</td>\n",
       "    </tr>\n",
       "    <tr>\n",
       "      <th>2014-01-31</th>\n",
       "      <td>1000002</td>\n",
       "      <td>5000002</td>\n",
       "      <td>0.0</td>\n",
       "      <td>0.0</td>\n",
       "    </tr>\n",
       "  </tbody>\n",
       "</table>\n",
       "</div>"
      ],
      "text/plain": [
       "                Customer_Id  Invoice_Id  Subscription_Type  Amount\n",
       "Month_Invoiced                                                    \n",
       "2014-01-31          1000000     5000000                0.0     0.0\n",
       "2014-01-31          1000001     5000001                2.0    10.0\n",
       "2014-01-31          1000002     5000002                0.0     0.0"
      ]
     },
     "execution_count": 10,
     "metadata": {},
     "output_type": "execute_result"
    }
   ],
   "source": [
    "saas_df.head(3)"
   ]
  },
  {
   "cell_type": "code",
   "execution_count": 11,
   "id": "098cdb03-1789-4e0d-9fad-57c4fd1d4852",
   "metadata": {},
   "outputs": [],
   "source": [
    "saas_df = saas_df.resample('d')[['Amount']].sum()"
   ]
  },
  {
   "cell_type": "code",
   "execution_count": 12,
   "id": "0360fe57-7624-4821-a3ee-d0b229a3ea2a",
   "metadata": {},
   "outputs": [
    {
     "data": {
      "text/plain": [
       "(Timestamp('2014-01-31 00:00:00', freq='D'),\n",
       " Timestamp('2017-12-31 00:00:00', freq='D'))"
      ]
     },
     "execution_count": 12,
     "metadata": {},
     "output_type": "execute_result"
    }
   ],
   "source": [
    "saas_df.index.min(), saas_df.index.max()"
   ]
  },
  {
   "cell_type": "code",
   "execution_count": 13,
   "id": "72665be8-a390-4d71-b901-8e4374427302",
   "metadata": {},
   "outputs": [
    {
     "name": "stdout",
     "output_type": "stream",
     "text": [
      "Amount\n"
     ]
    },
    {
     "data": {
      "image/png": "[encoded data removed]",
      "text/plain": [
       "<Figure size 640x480 with 1 Axes>"
      ]
     },
     "metadata": {},
     "output_type": "display_data"
    }
   ],
   "source": [
    "for col in saas_df.columns:\n",
    "    print(col)\n",
    "    saas_df[col].hist()\n",
    "    plt.show()"
   ]
  },
  {
   "cell_type": "code",
   "execution_count": null,
   "id": "d6453aea-3f64-4645-a03a-3187f8ee617e",
   "metadata": {},
   "outputs": [],
   "source": []
  },
  {
   "cell_type": "markdown",
   "id": "a5c0361a-ec75-4f89-8d06-4ea66b28dd2b",
   "metadata": {},
   "source": [
    "### 1. Data split"
   ]
  },
  {
   "cell_type": "code",
   "execution_count": 14,
   "id": "8c32431f-5d91-465d-a3e5-b905f8fd0c42",
   "metadata": {},
   "outputs": [],
   "source": [
    "train_size = int(len(saas_df) * .5)\n",
    "validate_size = int(len(saas_df) * .3)\n",
    "test_size = int(len(saas_df) - train_size - validate_size)\n",
    "validate_end_index = train_size + validate_size\n",
    "\n",
    "# split into train, validation, test\n",
    "train = saas_df[: train_size]\n",
    "validate = saas_df[train_size : validate_end_index]\n",
    "test = saas_df[validate_end_index : ]"
   ]
  },
  {
   "cell_type": "code",
   "execution_count": 15,
   "id": "23b8b481-7d9f-4994-9656-66e245e39353",
   "metadata": {},
   "outputs": [
    {
     "data": {
      "image/png": "[encoded data removed]",
      "text/plain": [
       "<Figure size 1200x400 with 1 Axes>"
      ]
     },
     "metadata": {},
     "output_type": "display_data"
    }
   ],
   "source": [
    "for col in train.columns:\n",
    "    plt.figure(figsize=(12,4))\n",
    "    plt.plot(train[col])\n",
    "    plt.plot(validate[col])\n",
    "    plt.plot(test[col])\n",
    "    plt.ylabel(col)\n",
    "    plt.title(col)\n",
    "    plt.show()"
   ]
  },
  {
   "cell_type": "markdown",
   "id": "178d255f-1312-4db0-a505-b102da645402",
   "metadata": {},
   "source": [
    "### 2. Forecast"
   ]
  },
  {
   "cell_type": "code",
   "execution_count": 16,
   "id": "03324647-2dbc-4eca-9d0a-952f544529fc",
   "metadata": {},
   "outputs": [
    {
     "data": {
      "text/html": [
       "<div>\n",
       "<style scoped>\n",
       "    .dataframe tbody tr th:only-of-type {\n",
       "        vertical-align: middle;\n",
       "    }\n",
       "\n",
       "    .dataframe tbody tr th {\n",
       "        vertical-align: top;\n",
       "    }\n",
       "\n",
       "    .dataframe thead th {\n",
       "        text-align: right;\n",
       "    }\n",
       "</style>\n",
       "<table border=\"1\" class=\"dataframe\">\n",
       "  <thead>\n",
       "    <tr style=\"text-align: right;\">\n",
       "      <th></th>\n",
       "      <th>total_amount</th>\n",
       "    </tr>\n",
       "    <tr>\n",
       "      <th>Month_Invoiced</th>\n",
       "      <th></th>\n",
       "    </tr>\n",
       "  </thead>\n",
       "  <tbody>\n",
       "    <tr>\n",
       "      <th>2016-01-16</th>\n",
       "      <td>0.0</td>\n",
       "    </tr>\n",
       "    <tr>\n",
       "      <th>2016-01-17</th>\n",
       "      <td>0.0</td>\n",
       "    </tr>\n",
       "    <tr>\n",
       "      <th>2016-01-18</th>\n",
       "      <td>0.0</td>\n",
       "    </tr>\n",
       "    <tr>\n",
       "      <th>2016-01-19</th>\n",
       "      <td>0.0</td>\n",
       "    </tr>\n",
       "    <tr>\n",
       "      <th>2016-01-20</th>\n",
       "      <td>0.0</td>\n",
       "    </tr>\n",
       "  </tbody>\n",
       "</table>\n",
       "</div>"
      ],
      "text/plain": [
       "                total_amount\n",
       "Month_Invoiced              \n",
       "2016-01-16               0.0\n",
       "2016-01-17               0.0\n",
       "2016-01-18               0.0\n",
       "2016-01-19               0.0\n",
       "2016-01-20               0.0"
      ]
     },
     "execution_count": 16,
     "metadata": {},
     "output_type": "execute_result"
    }
   ],
   "source": [
    "# take the last item of sales total and assign to variable\n",
    "last_amount = train['Amount'][-1:][0]\n",
    "\n",
    "\n",
    "yhat_saas_df = pd.DataFrame(\n",
    "    {'total_amount': [last_amount]},\n",
    "    index=validate.index)\n",
    "\n",
    "yhat_saas_df.head()"
   ]
  },
  {
   "cell_type": "code",
   "execution_count": 24,
   "id": "4ecff661-b17a-4978-964c-682b3b2b0c74",
   "metadata": {},
   "outputs": [
    {
     "ename": "NameError",
     "evalue": "name 'target_var' is not defined",
     "output_type": "error",
     "traceback": [
      "\u001b[0;31m---------------------------------------------------------------------------\u001b[0m",
      "\u001b[0;31mNameError\u001b[0m                                 Traceback (most recent call last)",
      "Cell \u001b[0;32mIn[24], line 10\u001b[0m\n\u001b[1;32m      8\u001b[0m     rmse \u001b[38;5;241m=\u001b[39m \u001b[38;5;28mround\u001b[39m(sqrt(mean_squared_error(validate[target_var], yhat_saas_df[target_var])), \u001b[38;5;241m0\u001b[39m)\n\u001b[1;32m      9\u001b[0m     \u001b[38;5;28;01mreturn\u001b[39;00m rmse\n\u001b[0;32m---> 10\u001b[0m \u001b[43mevaluate\u001b[49m\u001b[43m(\u001b[49m\u001b[38;5;124;43m'\u001b[39;49m\u001b[38;5;124;43mMonth_Invoiced\u001b[39;49m\u001b[38;5;124;43m'\u001b[39;49m\u001b[43m)\u001b[49m\n",
      "Cell \u001b[0;32mIn[24], line 8\u001b[0m, in \u001b[0;36mevaluate\u001b[0;34m(Month_Invoiced)\u001b[0m\n\u001b[1;32m      1\u001b[0m \u001b[38;5;28;01mdef\u001b[39;00m \u001b[38;5;21mevaluate\u001b[39m(Month_Invoiced):\n\u001b[1;32m      2\u001b[0m     \u001b[38;5;124;03m'''\u001b[39;00m\n\u001b[1;32m      3\u001b[0m \u001b[38;5;124;03m    This function will take the actual values of the target_var from validate, \u001b[39;00m\n\u001b[1;32m      4\u001b[0m \u001b[38;5;124;03m    and the predicted values stored in yhat_saas_df, \u001b[39;00m\n\u001b[1;32m      5\u001b[0m \u001b[38;5;124;03m    and compute the rmse, rounding to 0 decimal places. \u001b[39;00m\n\u001b[1;32m      6\u001b[0m \u001b[38;5;124;03m    it will return the rmse. \u001b[39;00m\n\u001b[1;32m      7\u001b[0m \u001b[38;5;124;03m    '''\u001b[39;00m\n\u001b[0;32m----> 8\u001b[0m     rmse \u001b[38;5;241m=\u001b[39m \u001b[38;5;28mround\u001b[39m(sqrt(mean_squared_error(validate[\u001b[43mtarget_var\u001b[49m], yhat_saas_df[target_var])), \u001b[38;5;241m0\u001b[39m)\n\u001b[1;32m      9\u001b[0m     \u001b[38;5;28;01mreturn\u001b[39;00m rmse\n",
      "\u001b[0;31mNameError\u001b[0m: name 'target_var' is not defined"
     ]
    }
   ],
   "source": [
    "def evaluate(Month_Invoiced):\n",
    "    '''\n",
    "    This function will take the actual values of the target_var from validate, \n",
    "    and the predicted values stored in yhat_saas_df, \n",
    "    and compute the rmse, rounding to 0 decimal places. \n",
    "    it will return the rmse. \n",
    "    '''\n",
    "    rmse = round(sqrt(mean_squared_error(validate[target_var], yhat_saas_df[target_var])), 0)\n",
    "    return rmse\n",
    "evaluate('Month_Invoiced')"
   ]
  },
  {
   "cell_type": "code",
   "execution_count": 18,
   "id": "03a348c0-e6ad-4008-a056-bd966e694047",
   "metadata": {},
   "outputs": [],
   "source": [
    "# function to store rmse for comparison purposes\n",
    "def append_eval_saas_df(model_type, target_var):\n",
    "    '''\n",
    "    this function takes in as arguments the type of model run, and the name of the target variable. \n",
    "    It returns the eval_saas_df with the rmse appended to it for that model and target_var. \n",
    "    '''\n",
    "    rmse = evaluate(target_var)\n",
    "    d = {'model_type': [model_type], 'target_var': [target_var], 'rmse': [rmse]}\n",
    "    d = pd.DataFrame(d)\n",
    "    return pd.concat([eval_saas_df, d])"
   ]
  },
  {
   "cell_type": "markdown",
   "id": "252b4aff-b72a-4c3c-b707-e48b989723e8",
   "metadata": {},
   "source": [
    "## Last Observed Value"
   ]
  },
  {
   "cell_type": "code",
   "execution_count": 19,
   "id": "3bc0822c-55c4-4853-8de3-86788b08e523",
   "metadata": {},
   "outputs": [],
   "source": [
    "\n",
    "def last_observed_value(series):\n",
    "    last_value = series.iloc[-1]\n",
    "    forecast = [last_value] * len(series)\n",
    "    \n",
    "    plt.figure(figsize=(10, 6))\n",
    "    plt.plot(series.index, series.values, label='Actual')\n",
    "    plt.plot(series.index, forecast, label='Last Observed Value')\n",
    "    plt.xlabel('Time')\n",
    "    plt.ylabel('Value')\n",
    "    plt.title('Last Observed Value Forecast')\n",
    "    plt.legend()\n",
    "    plt.show()"
   ]
  },
  {
   "cell_type": "code",
   "execution_count": null,
   "id": "60d74bd0-9097-4642-800a-e4f7fa21fc1e",
   "metadata": {},
   "outputs": [],
   "source": [
    "last_observed_value(train)"
   ]
  },
  {
   "cell_type": "markdown",
   "id": "9e33f72f-7ad9-4226-b613-dfd55486320a",
   "metadata": {},
   "source": [
    "## Simple Average:"
   ]
  },
  {
   "cell_type": "code",
   "execution_count": null,
   "id": "e1229a46-24d2-4431-904e-c6311a50b1cc",
   "metadata": {},
   "outputs": [],
   "source": [
    "def simple_average(series):\n",
    "    average_value = series.mean()\n",
    "    forecast = [average_value] * len(series)\n",
    "    \n",
    "    plt.figure(figsize=(10, 6))\n",
    "    plt.plot(series.index, series.values, label='Actual')\n",
    "    plt.plot(series.index, forecast, label='Simple Average')\n",
    "    plt.xlabel('Time')\n",
    "    plt.ylabel('Value')\n",
    "    plt.title('Simple Average Forecast')\n",
    "    plt.legend()\n",
    "    plt.show()"
   ]
  },
  {
   "cell_type": "code",
   "execution_count": null,
   "id": "fc79e402-d905-4167-aa95-aea0637f8d20",
   "metadata": {},
   "outputs": [],
   "source": [
    "simple_average(train)"
   ]
  },
  {
   "cell_type": "markdown",
   "id": "81b77762-20ad-4d5a-8c83-ab0d2a877789",
   "metadata": {},
   "source": [
    "## Moving Average"
   ]
  },
  {
   "cell_type": "code",
   "execution_count": null,
   "id": "a3f4ec91-e434-4f49-bc84-34ab402554ca",
   "metadata": {},
   "outputs": [],
   "source": [
    "def moving_average(series, window_size):\n",
    "    forecast = series.rolling(window=window_size).mean()\n",
    "    \n",
    "    plt.figure(figsize=(10, 6))\n",
    "    plt.plot(series.index, series.values, label='Actual')\n",
    "    plt.plot(series.index, forecast, label='Moving Average')\n",
    "    plt.xlabel('Time')\n",
    "    plt.ylabel('Value')\n",
    "    plt.title(f'Moving Average Forecast (Window Size: {window_size})')\n",
    "    plt.legend()\n",
    "    plt.show()"
   ]
  },
  {
   "cell_type": "code",
   "execution_count": null,
   "id": "2f764853-e3af-44db-8bb0-d08634007672",
   "metadata": {},
   "outputs": [],
   "source": [
    "moving_average(train,4)"
   ]
  },
  {
   "cell_type": "markdown",
   "id": "04d04f54-c47b-40c3-b8ff-d4db0d58a67a",
   "metadata": {},
   "source": [
    "## Holt's Linear Trend"
   ]
  },
  {
   "cell_type": "code",
   "execution_count": null,
   "id": "3b6c0c51-8b97-4363-b132-28b78348319a",
   "metadata": {},
   "outputs": [],
   "source": [
    "def holt_linear_trend(series, forecast_length):\n",
    "    # Fit Holt's Linear Trend model\n",
    "    model = ExponentialSmoothing(series, trend='add', damped_trend=False).fit()\n",
    "\n",
    "    # Generate forecasts\n",
    "    forecast = model.predict(start=len(series), end=len(series)+forecast_length-1)\n",
    "\n",
    "    # Plot the actual values and the forecast\n",
    "    plt.figure(figsize=(10, 6))\n",
    "    plt.plot(series.index, series.values, label='Actual')\n",
    "    plt.plot(forecast.index, forecast.values, label='Holt Linear Trend')\n",
    "    plt.xlabel('Time')\n",
    "    plt.ylabel('Value')\n",
    "    plt.title('Holt Linear Trend Forecast')\n",
    "    plt.legend()\n",
    "    plt.show()\n",
    "\n",
    "    return forecast"
   ]
  },
  {
   "cell_type": "code",
   "execution_count": null,
   "id": "c4b756d7-e5b5-42eb-ac0f-d5d4b48af5b9",
   "metadata": {},
   "outputs": [],
   "source": [
    "holt_linear_trend(train,20)"
   ]
  },
  {
   "cell_type": "code",
   "execution_count": null,
   "id": "83cadb8a-3bc4-48de-baa9-43b858b42de2",
   "metadata": {},
   "outputs": [],
   "source": []
  }
 ],
 "metadata": {
  "kernelspec": {
   "display_name": "Python 3 (ipykernel)",
   "language": "python",
   "name": "python3"
  },
  "language_info": {
   "codemirror_mode": {
    "name": "ipython",
    "version": 3
   },
   "file_extension": ".py",
   "mimetype": "text/x-python",
   "name": "python",
   "nbconvert_exporter": "python",
   "pygments_lexer": "ipython3",
   "version": "3.10.9"
  }
 },
 "nbformat": 4,
 "nbformat_minor": 5
}
